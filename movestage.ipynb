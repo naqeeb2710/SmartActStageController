{
 "cells": [
  {
   "cell_type": "code",
   "execution_count": 1,
   "metadata": {},
   "outputs": [],
   "source": [
    "import sys\n",
    "import smaract.ctl as ctl\n",
    "\n",
    "\n"
   ]
  },
  {
   "cell_type": "code",
   "execution_count": 2,
   "metadata": {},
   "outputs": [
    {
     "name": "stdout",
     "output_type": "stream",
     "text": [
      "usb:sn:MCS2-00002553\n"
     ]
    }
   ],
   "source": [
    "buffer = ctl.FindDevices()\n",
    "print(buffer)"
   ]
  },
  {
   "cell_type": "code",
   "execution_count": 3,
   "metadata": {},
   "outputs": [
    {
     "name": "stdout",
     "output_type": "stream",
     "text": [
      "MCS2 opened usb:sn:MCS2-00002553.\n"
     ]
    }
   ],
   "source": [
    "d_handle = None\n",
    "# try:\n",
    "d_handle = ctl.Open(buffer)\n",
    "print(\"MCS2 opened {}.\".format(buffer))"
   ]
  },
  {
   "cell_type": "code",
   "execution_count": 4,
   "metadata": {},
   "outputs": [],
   "source": [
    "channel = 2"
   ]
  },
  {
   "cell_type": "code",
   "execution_count": 5,
   "metadata": {},
   "outputs": [],
   "source": [
    "def calibrate(channel):\n",
    "    print(\"MCS2 start calibration on channel: {}.\".format(channel))\n",
    "    # Set calibration options (start direction: forward)\n",
    "    ctl.SetProperty_i32(d_handle, channel, ctl.Property.CALIBRATION_OPTIONS, 0)\n",
    "    # Start calibration sequence\n",
    "    ctl.Calibrate(d_handle, channel)"
   ]
  },
  {
   "cell_type": "code",
   "execution_count": 6,
   "metadata": {},
   "outputs": [
    {
     "name": "stdout",
     "output_type": "stream",
     "text": [
      "MCS2 start calibration on channel: 2.\n"
     ]
    }
   ],
   "source": [
    "calibrate(channel)"
   ]
  },
  {
   "cell_type": "code",
   "execution_count": 7,
   "metadata": {},
   "outputs": [],
   "source": [
    "def move(channel, move_mode, direction):\n",
    "    # Set move mode depending properties for the next movement.\n",
    "    if move_mode == ctl.MoveMode.CL_ABSOLUTE:\n",
    "        # Set move velocity [in pm/s].\n",
    "        ctl.SetProperty_i64(d_handle, channel, ctl.Property.MOVE_VELOCITY, 1000000000)\n",
    "        # Set move acceleration [in pm/s2].\n",
    "        ctl.SetProperty_i64(d_handle, channel, ctl.Property.MOVE_ACCELERATION, 1000000000)\n",
    "        # Specify absolute position [in pm].\n",
    "        # (For Piezo Scanner channels adjust to valid value within move range, e.g. +-10000000.)\n",
    "        move_value = 1000000000\n",
    "        if direction:\n",
    "            move_value = -2000000000\n",
    "        print(\"MCS2 move channel {} to absolute position: {} pm.\".format(channel, move_value))\n",
    "    elif move_mode == ctl.MoveMode.CL_RELATIVE:\n",
    "        # Set move velocity [in pm/s].\n",
    "        ctl.SetProperty_i64(d_handle, channel, ctl.Property.MOVE_VELOCITY, 500000000)\n",
    "        # Set move acceleration [in pm/s2].\n",
    "        ctl.SetProperty_i64(d_handle, channel, ctl.Property.MOVE_ACCELERATION, 10000000000)\n",
    "        # Specify relative position distance [in pm] and direction.\n",
    "        # (For Piezo Scanner channels adjust to valid value within move range, e.g. 10000000.)\n",
    "        move_value = 500000000\n",
    "        if direction:\n",
    "            move_value = -move_value\n",
    "        print(\"MCS2 move channel {} relative: {} pm.\".format(channel, move_value))\n",
    "    elif move_mode == ctl.MoveMode.SCAN_ABSOLUTE:\n",
    "        # Set scan velocity [in dac increments/s].\n",
    "        # Valid range (Stick-Slip Piezo): 1 to 65535000000\n",
    "        # Valid range (Piezo Scanner): 1 to 4194300000\n",
    "        ctl.SetProperty_i64(d_handle, channel, ctl.Property.SCAN_VELOCITY, (65535*2))\n",
    "        # Specify absolute scan target to which to scan to [in dac increments].\n",
    "        # Valid range (Stick-Slip Piezo): 0 to 65535 corresponding to 0 to 100V piezo voltage\n",
    "        # Valid range (Piezo Scanner): 0 to 1048575 corresponding to -20 to 100V piezo voltage\n",
    "        move_value = 65535\n",
    "        if direction:\n",
    "            move_value = 0\n",
    "        print(\"MCS2 scan channel {} absolute to: {}.\".format(channel, move_value))\n",
    "    elif move_mode == ctl.MoveMode.SCAN_RELATIVE:\n",
    "        # Set scan velocity [in dac increments/s].\n",
    "        ctl.SetProperty_i64(d_handle, channel, ctl.Property.SCAN_VELOCITY, 65535)\n",
    "        # Specify relative scan target and direction to which to scan to [in dac increments].\n",
    "        # Valid range( Stick-Slip Piezo): -65535 to 65535 corresponding to 0 to 100V piezo voltage\n",
    "        # Valid range (Piezo Scanner): -1048575 to 1048575 corresponding to -20 to 100V piezo voltage\n",
    "        # If the resulting absolute scan target exceeds the valid range the scan movement will stop at the boundary.\n",
    "        move_value = 65535\n",
    "        if direction:\n",
    "            move_value = -move_value\n",
    "        print(\"MCS2 scan channel {} relative: {}.\".format(channel, move_value))\n",
    "    elif move_mode == ctl.MoveMode.STEP: # (only Stick-Slip piezo positioners)\n",
    "        # Set step frequency [in Hz].\n",
    "        # Valid range: 1 to 20000 Hz\n",
    "        ctl.SetProperty_i32(d_handle, channel, ctl.Property.STEP_FREQUENCY, 1000)\n",
    "        # Set maximum step amplitude [in dac increments].\n",
    "        # valid range: 0 to 65535 corresponding to 0 to 100V piezo voltage\n",
    "        # Lower amplitude values result in smaller step width.\n",
    "        ctl.SetProperty_i32(d_handle, channel, ctl.Property.STEP_AMPLITUDE, 65535)\n",
    "        # Specify the number of steps to perform and the direction.\n",
    "        move_value = 500\n",
    "        if direction:\n",
    "            move_value = -move_value\n",
    "        print(\"MCS2 open loop step move, channel {}, steps: {}.\".format(channel, move_value))\n",
    "    # Start actual movement.\n",
    "    ctl.Move(d_handle, channel, move_value, 0)\n",
    "    # Note that the function call returns immediately, without waiting for the movement to complete.\n",
    "    # The \"ChannelState.ACTIVELY_MOVING\" (and \"ChannelState.CLOSED_LOOP_ACTIVE\") flag in the channel state\n",
    "    # can be monitored to determine the end of the movement.\n"
   ]
  },
  {
   "cell_type": "code",
   "execution_count": 27,
   "metadata": {},
   "outputs": [
    {
     "name": "stdout",
     "output_type": "stream",
     "text": [
      "MCS2 open loop step move, channel 1, steps: -500.\n"
     ]
    }
   ],
   "source": [
    "move(channel, ctl.MoveMode., True)\n",
    "\n"
   ]
  },
  {
   "cell_type": "code",
   "execution_count": 44,
   "metadata": {},
   "outputs": [
    {
     "name": "stdout",
     "output_type": "stream",
     "text": [
      "MCS2 move channel 5 to absolute position: 1000000000 pm.\n"
     ]
    }
   ],
   "source": [
    "move(channel, ctl.MoveMode.CL_ABSOLUTE, False)"
   ]
  },
  {
   "cell_type": "code",
   "execution_count": 43,
   "metadata": {},
   "outputs": [],
   "source": [
    "channel=5"
   ]
  },
  {
   "cell_type": "code",
   "execution_count": 35,
   "metadata": {},
   "outputs": [],
   "source": [
    "def findReference(channel):\n",
    "    print(\"MCS2 find reference on channel: {}.\".format(channel))\n",
    "    # Set find reference options.\n",
    "    # The reference options specify the behavior of the find reference sequence.\n",
    "    # The reference flags can be ORed to build the reference options.\n",
    "    # By default (options = 0) the positioner returns to the position of the reference mark.\n",
    "    # Note: In contrast to previous controller systems this is not mandatory.\n",
    "    # The MCS2 controller is able to find the reference position \"on-the-fly\".\n",
    "    # See the MCS2 Programmer Guide for a description of the different modes.\n",
    "    ctl.SetProperty_i32(d_handle, channel, ctl.Property.REFERENCING_OPTIONS, 0)\n",
    "    # Set velocity to 1mm/s\n",
    "    ctl.SetProperty_i64(d_handle, channel, ctl.Property.MOVE_VELOCITY, 1000000000)\n",
    "    # Set acceleration to 10mm/s2.\n",
    "    ctl.SetProperty_i64(d_handle, channel, ctl.Property.MOVE_ACCELERATION, 10000000000)\n",
    "    # Start referencing sequence\n",
    "    ctl.Reference(d_handle, channel)\n",
    "    # Note that the function call returns immediately, without waiting for the movement to complete.\n",
    "    # The \"ChannelState.REFERENCING\" flag in the channel state can be monitored to determine\n",
    "    # the end of the referencing sequence."
   ]
  },
  {
   "cell_type": "code",
   "execution_count": 22,
   "metadata": {},
   "outputs": [
    {
     "name": "stdout",
     "output_type": "stream",
     "text": [
      "MCS2 find reference on channel: 1.\n"
     ]
    }
   ],
   "source": [
    "findReference(channel)"
   ]
  },
  {
   "cell_type": "code",
   "execution_count": 23,
   "metadata": {},
   "outputs": [
    {
     "name": "stdout",
     "output_type": "stream",
     "text": [
      "MCS2 find reference on channel: 0.\n"
     ]
    }
   ],
   "source": [
    "findReference(0)"
   ]
  },
  {
   "cell_type": "code",
   "execution_count": 24,
   "metadata": {},
   "outputs": [
    {
     "name": "stdout",
     "output_type": "stream",
     "text": [
      "MCS2 find reference on channel: 2.\n"
     ]
    }
   ],
   "source": [
    "findReference(2)"
   ]
  },
  {
   "cell_type": "code",
   "execution_count": 25,
   "metadata": {},
   "outputs": [
    {
     "name": "stdout",
     "output_type": "stream",
     "text": [
      "MCS2 find reference on channel: 5.\n"
     ]
    }
   ],
   "source": [
    "findReference(5)"
   ]
  },
  {
   "cell_type": "code",
   "execution_count": 19,
   "metadata": {},
   "outputs": [],
   "source": [
    "if d_handle != None:\n",
    "        ctl.Close(d_handle)"
   ]
  },
  {
   "cell_type": "code",
   "execution_count": null,
   "metadata": {},
   "outputs": [],
   "source": []
  }
 ],
 "metadata": {
  "kernelspec": {
   "display_name": "Python 3",
   "language": "python",
   "name": "python3"
  },
  "language_info": {
   "codemirror_mode": {
    "name": "ipython",
    "version": 3
   },
   "file_extension": ".py",
   "mimetype": "text/x-python",
   "name": "python",
   "nbconvert_exporter": "python",
   "pygments_lexer": "ipython3",
   "version": "3.10.4"
  }
 },
 "nbformat": 4,
 "nbformat_minor": 2
}
