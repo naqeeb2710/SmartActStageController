{
 "cells": [
  {
   "cell_type": "code",
   "execution_count": 79,
   "metadata": {},
   "outputs": [],
   "source": [
    "import sys\n",
    "import smaract.ctl as ctl"
   ]
  },
  {
   "cell_type": "code",
   "execution_count": 118,
   "metadata": {},
   "outputs": [],
   "source": [
    "def assert_lib_compatibility():\n",
    "    \"\"\"\n",
    "    Checks that the major version numbers of the Python API and the\n",
    "    loaded shared library are the same to avoid errors due to \n",
    "    incompatibilities.\n",
    "    Raises a RuntimeError if the major version numbers are different.\n",
    "    \"\"\"\n",
    "    vapi = ctl.api_version\n",
    "    vlib = [int(i) for i in ctl.GetFullVersionString().split('.')]\n",
    "    if vapi[0] != vlib[0]:\n",
    "        raise RuntimeError(\"Incompatible SmarActCTL python api and library version.\")"
   ]
  },
  {
   "cell_type": "code",
   "execution_count": 119,
   "metadata": {},
   "outputs": [
    {
     "name": "stdout",
     "output_type": "stream",
     "text": [
      "SmarActCTL library version: '1.4.3.134888'.\n"
     ]
    }
   ],
   "source": [
    "version = ctl.GetFullVersionString()\n",
    "print(\"SmarActCTL library version: '{}'.\".format(version))\n",
    "assert_lib_compatibility()"
   ]
  },
  {
   "cell_type": "code",
   "execution_count": 120,
   "metadata": {},
   "outputs": [],
   "source": [
    "locator = \"usb:ix:0\"\n"
   ]
  },
  {
   "cell_type": "code",
   "execution_count": 128,
   "metadata": {},
   "outputs": [
    {
     "name": "stdout",
     "output_type": "stream",
     "text": [
      "MCS2 opened usb:ix:0.\n"
     ]
    }
   ],
   "source": [
    "d_handle = None\n",
    "# try:\n",
    "d_handle = ctl.Open(locator)\n",
    "print(\"MCS2 opened {}.\".format(locator))\n"
   ]
  },
  {
   "cell_type": "code",
   "execution_count": 122,
   "metadata": {},
   "outputs": [
    {
     "name": "stdout",
     "output_type": "stream",
     "text": [
      "MCS2 device serial number: MCS2-00002553\n"
     ]
    }
   ],
   "source": [
    "device_sn = ctl.GetProperty_s(d_handle, 0, ctl.Property.DEVICE_SERIAL_NUMBER)\n",
    "print(\"MCS2 device serial number: {}\".format(device_sn))"
   ]
  },
  {
   "cell_type": "code",
   "execution_count": 123,
   "metadata": {},
   "outputs": [
    {
     "name": "stdout",
     "output_type": "stream",
     "text": [
      "MCS2 number of channels: 6.\n"
     ]
    }
   ],
   "source": [
    "no_of_channels = ctl.GetProperty_i32(d_handle, 0, ctl.Property.NUMBER_OF_CHANNELS)\n",
    "print(\"MCS2 number of channels: {}.\".format(no_of_channels))"
   ]
  },
  {
   "cell_type": "code",
   "execution_count": 124,
   "metadata": {},
   "outputs": [
    {
     "name": "stdout",
     "output_type": "stream",
     "text": [
      "MCS2 channel 0 has a sensor.\n",
      "MCS2 channel 1 has a sensor.\n",
      "MCS2 channel 2 has a sensor.\n",
      "MCS2 channel 3 has a sensor.\n",
      "MCS2 channel 4 has a sensor.\n",
      "MCS2 channel 5 has a sensor.\n"
     ]
    }
   ],
   "source": [
    "for channel in range(no_of_channels):\n",
    "    state = ctl.GetProperty_i32(d_handle, channel, ctl.Property.CHANNEL_STATE)\n",
    "    # The returned channel state holds a bit field of several state flags.\n",
    "    # See the MCS2 Programmers Guide for the meaning of all state flags.\n",
    "    # We pick the \"sensorPresent\" flag to check if there is a positioner connected\n",
    "    # which has an integrated sensor.\n",
    "    # Note that in contrast to previous controller systems the controller supports\n",
    "    # hotplugging of the sensor module and the actuators.\n",
    "    if state & ctl.ChannelState.SENSOR_PRESENT:\n",
    "        print(\"MCS2 channel {} has a sensor.\".format(channel))\n",
    "    else:\n",
    "        print(\"MCS2 channel {} has no sensor.\".format(channel))"
   ]
  },
  {
   "cell_type": "code",
   "execution_count": 129,
   "metadata": {},
   "outputs": [],
   "source": [
    "  # For the following steps we need a positioner connected to channel 0.\n",
    "channel = 0\n",
    "\n",
    "    # First we want to know if the configured positioner type is a linear or a rotatory type.\n",
    "    # For this purpose we can read the base unit property.\n",
    "base_unit = ctl.GetProperty_i32(d_handle, channel, ctl.Property.POS_BASE_UNIT)"
   ]
  },
  {
   "cell_type": "code",
   "execution_count": 126,
   "metadata": {},
   "outputs": [
    {
     "name": "stdout",
     "output_type": "stream",
     "text": [
      "MCS2 position of channel 0: -141982731pm.\n"
     ]
    }
   ],
   "source": [
    "position = ctl.GetProperty_i64(d_handle, channel, ctl.Property.POSITION)\n",
    "print(\"MCS2 position of channel {}: {}\".format(channel, position), end='')\n",
    "print(\"pm.\") if base_unit == ctl.BaseUnit.METER else print(\"ndeg.\")"
   ]
  },
  {
   "cell_type": "code",
   "execution_count": 57,
   "metadata": {},
   "outputs": [
    {
     "name": "stdout",
     "output_type": "stream",
     "text": [
      "MCS2 set position of channel 0 to 100000000pm.\n"
     ]
    }
   ],
   "source": [
    "position = 100000000 # in pm | ndeg\n",
    "print(\"MCS2 set position of channel {} to {}\".format(channel, position), end='')\n",
    "print(\"pm.\") if base_unit == ctl.BaseUnit.METER else print(\"ndeg.\")\n",
    "ctl.SetProperty_i64(d_handle, channel, ctl.Property.POSITION, position)"
   ]
  },
  {
   "cell_type": "code",
   "execution_count": 58,
   "metadata": {},
   "outputs": [],
   "source": [
    "# Issue requests for the two properties \"position\" and \"channel state\".\n",
    "r_id1 = ctl.RequestReadProperty(d_handle, channel, ctl.Property.POSITION, 0)\n",
    "# The function call returns immediately, allowing the application to issue another request or to perform other tasks.\n",
    "# We simply request a second property. (the channel state in this case)\n",
    "r_id2 = ctl.RequestReadProperty(d_handle, channel, ctl.Property.CHANNEL_STATE, 0)"
   ]
  },
  {
   "cell_type": "code",
   "execution_count": 59,
   "metadata": {},
   "outputs": [
    {
     "name": "stdout",
     "output_type": "stream",
     "text": [
      "MCS2 current position of channel 0: 100029398pm.\n",
      "MCS2 channel 0 is stopped.\n"
     ]
    }
   ],
   "source": [
    "position = ctl.ReadProperty_i64(d_handle, r_id1)\n",
    "state = ctl.ReadProperty_i32(d_handle, r_id2)\n",
    "\n",
    "    # Print the results\n",
    "print(\"MCS2 current position of channel {}: {}\".format(channel, position), end='')\n",
    "print(\"pm.\") if base_unit == ctl.BaseUnit.METER else print(\"ndeg.\")\n",
    "if (state & ctl.ChannelState.ACTIVELY_MOVING) == 0:\n",
    "    print(\"MCS2 channel {} is stopped.\".format(channel))"
   ]
  },
  {
   "cell_type": "code",
   "execution_count": 60,
   "metadata": {},
   "outputs": [
    {
     "name": "stdout",
     "output_type": "stream",
     "text": [
      "MCS2 set position of channel 0 to -100000000pm.\n"
     ]
    }
   ],
   "source": [
    "position = -100000000\n",
    "print(\"MCS2 set position of channel {} to {}\".format(channel, position), end='')\n",
    "print(\"pm.\") if base_unit == ctl.BaseUnit.METER else print(\"ndeg.\")\n",
    "r_id = ctl.RequestWriteProperty_i64(d_handle, channel, ctl.Property.POSITION, position)\n",
    "# The function call returns immediately, without waiting for the reply from the controller.\n",
    "# ...process other tasks...\n",
    "\n",
    "# Wait for the result to arrive.\n",
    "ctl.WaitForWrite(d_handle, r_id)"
   ]
  },
  {
   "cell_type": "code",
   "execution_count": 61,
   "metadata": {},
   "outputs": [],
   "source": [
    "ctl.RequestWriteProperty_i64(d_handle, channel, ctl.Property.POSITION, position, pass_rID = False)\n"
   ]
  },
  {
   "cell_type": "code",
   "execution_count": 127,
   "metadata": {},
   "outputs": [],
   "source": [
    "if d_handle != None:\n",
    "    ctl.Close(d_handle)"
   ]
  },
  {
   "cell_type": "code",
   "execution_count": 63,
   "metadata": {},
   "outputs": [],
   "source": [
    "def calibrate(channel):\n",
    "    print(\"MCS2 start calibration on channel: {}.\".format(channel))\n",
    "    # Set calibration options (start direction: forward)\n",
    "    ctl.SetProperty_i32(d_handle, channel, ctl.Property.CALIBRATION_OPTIONS, 0)\n",
    "    # Start calibration sequence\n",
    "    ctl.Calibrate(d_handle, channel)\n",
    "    # Note that the function call returns immediately, without waiting for the movement to complete.\n",
    "    # The \"ChannelState.CALIBRATING\" flag in the channel state can be monitored to determine\n",
    "    # the end of the calibration sequence.\n"
   ]
  },
  {
   "cell_type": "code",
   "execution_count": 71,
   "metadata": {},
   "outputs": [
    {
     "name": "stdout",
     "output_type": "stream",
     "text": [
      "MCS2 no devices found.\n"
     ]
    },
    {
     "ename": "ConnectionError",
     "evalue": "",
     "output_type": "error",
     "traceback": [
      "\u001b[1;31m---------------------------------------------------------------------------\u001b[0m",
      "\u001b[1;31mConnectionError\u001b[0m                           Traceback (most recent call last)",
      "Cell \u001b[1;32mIn[71], line 4\u001b[0m\n\u001b[0;32m      2\u001b[0m \u001b[38;5;28;01mif\u001b[39;00m \u001b[38;5;28mlen\u001b[39m(buffer) \u001b[38;5;241m==\u001b[39m \u001b[38;5;241m0\u001b[39m:\n\u001b[0;32m      3\u001b[0m     \u001b[38;5;28mprint\u001b[39m(\u001b[38;5;124m\"\u001b[39m\u001b[38;5;124mMCS2 no devices found.\u001b[39m\u001b[38;5;124m\"\u001b[39m)\n\u001b[1;32m----> 4\u001b[0m     \u001b[38;5;28;01mraise\u001b[39;00m \u001b[38;5;167;01mConnectionError\u001b[39;00m\n\u001b[0;32m      5\u001b[0m locators \u001b[38;5;241m=\u001b[39m buffer\u001b[38;5;241m.\u001b[39msplit(\u001b[38;5;124m\"\u001b[39m\u001b[38;5;130;01m\\n\u001b[39;00m\u001b[38;5;124m\"\u001b[39m)\n\u001b[0;32m      6\u001b[0m \u001b[38;5;28;01mfor\u001b[39;00m locator \u001b[38;5;129;01min\u001b[39;00m locators:\n",
      "\u001b[1;31mConnectionError\u001b[0m: "
     ]
    }
   ],
   "source": [
    "buffer = ctl.FindDevices()\n",
    "if len(buffer) == 0:\n",
    "    print(\"MCS2 no devices found.\")\n",
    "    raise ConnectionError\n",
    "locators = buffer.split(\"\\n\")\n",
    "for locator in locators:\n",
    "    print(\"MCS2 available devices: {}\".format(locator))\n",
    "    "
   ]
  },
  {
   "cell_type": "code",
   "execution_count": 140,
   "metadata": {},
   "outputs": [
    {
     "ename": "AttributeError",
     "evalue": "'list' object has no attribute 'encode'",
     "output_type": "error",
     "traceback": [
      "\u001b[1;31m---------------------------------------------------------------------------\u001b[0m",
      "\u001b[1;31mAttributeError\u001b[0m                            Traceback (most recent call last)",
      "Cell \u001b[1;32mIn[140], line 2\u001b[0m\n\u001b[0;32m      1\u001b[0m d_handle\u001b[38;5;241m=\u001b[39m\u001b[38;5;28;01mNone\u001b[39;00m\n\u001b[1;32m----> 2\u001b[0m d_handle \u001b[38;5;241m=\u001b[39m \u001b[43mctl\u001b[49m\u001b[38;5;241;43m.\u001b[39;49m\u001b[43mOpen\u001b[49m\u001b[43m(\u001b[49m\u001b[43mlocators\u001b[49m\u001b[43m)\u001b[49m\n\u001b[0;32m      3\u001b[0m \u001b[38;5;66;03m# print(\"MCS2 opened {}.\".format(locators[0]))\u001b[39;00m\n\u001b[0;32m      4\u001b[0m channel \u001b[38;5;241m=\u001b[39m \u001b[38;5;241m0\u001b[39m\n",
      "File \u001b[1;32mc:\\Users\\naqee\\Desktop\\Stage_Controller\\smaract code\\smaract\\ctl\\bindings.py:143\u001b[0m, in \u001b[0;36mOpen\u001b[1;34m(locator, config)\u001b[0m\n\u001b[0;32m    131\u001b[0m \u001b[38;5;124;03m\"\"\"\u001b[39;00m\n\u001b[0;32m    132\u001b[0m \u001b[38;5;124;03mOpens a connection to a device specified by a locator string\u001b[39;00m\n\u001b[0;32m    133\u001b[0m \u001b[38;5;124;03m\u001b[39;00m\n\u001b[1;32m   (...)\u001b[0m\n\u001b[0;32m    140\u001b[0m \u001b[38;5;124;03mcalls.\u001b[39;00m\n\u001b[0;32m    141\u001b[0m \u001b[38;5;124;03m\"\"\"\u001b[39;00m\n\u001b[0;32m    142\u001b[0m local_0 \u001b[38;5;241m=\u001b[39m ffi\u001b[38;5;241m.\u001b[39mnew(\u001b[38;5;124m\"\u001b[39m\u001b[38;5;124mSA_CTL_DeviceHandle_t *\u001b[39m\u001b[38;5;124m\"\u001b[39m)\n\u001b[1;32m--> 143\u001b[0m local_1 \u001b[38;5;241m=\u001b[39m lib\u001b[38;5;241m.\u001b[39mSA_CTL_Open(local_0, \u001b[43mlocator\u001b[49m\u001b[38;5;241;43m.\u001b[39;49m\u001b[43mencode\u001b[49m(), config\u001b[38;5;241m.\u001b[39mencode())\n\u001b[0;32m    144\u001b[0m \u001b[38;5;28;01mif\u001b[39;00m local_1 \u001b[38;5;241m!=\u001b[39m ErrorCode\u001b[38;5;241m.\u001b[39mNONE\u001b[38;5;241m.\u001b[39mvalue:\n\u001b[0;32m    145\u001b[0m     \u001b[38;5;28;01mraise\u001b[39;00m Error(\u001b[38;5;124m\"\u001b[39m\u001b[38;5;124mOpen\u001b[39m\u001b[38;5;124m\"\u001b[39m, local_1, {\u001b[38;5;124m\"\u001b[39m\u001b[38;5;124mlocator\u001b[39m\u001b[38;5;124m\"\u001b[39m: locator, \u001b[38;5;124m\"\u001b[39m\u001b[38;5;124mconfig\u001b[39m\u001b[38;5;124m\"\u001b[39m: config})\n",
      "\u001b[1;31mAttributeError\u001b[0m: 'list' object has no attribute 'encode'"
     ]
    }
   ],
   "source": [
    "d_handle=None\n",
    "d_handle = ctl.Open(locators)\n",
    "# print(\"MCS2 opened {}.\".format(locators[0]))\n",
    "channel = 0\n"
   ]
  },
  {
   "cell_type": "code",
   "execution_count": 130,
   "metadata": {},
   "outputs": [],
   "source": [
    "def calibrate(channel):\n",
    "    print(\"MCS2 start calibration on channel: {}.\".format(channel))\n",
    "    # Set calibration options (start direction: forward)\n",
    "    ctl.SetProperty_i32(d_handle, channel, ctl.Property.CALIBRATION_OPTIONS, 0)\n",
    "    # Start calibration sequence\n",
    "    ctl.Calibrate(d_handle, channel)"
   ]
  },
  {
   "cell_type": "code",
   "execution_count": 131,
   "metadata": {},
   "outputs": [
    {
     "name": "stdout",
     "output_type": "stream",
     "text": [
      "MCS2 start calibration on channel: 0.\n"
     ]
    }
   ],
   "source": [
    "calibrate(channel)"
   ]
  },
  {
   "cell_type": "code",
   "execution_count": 116,
   "metadata": {},
   "outputs": [],
   "source": [
    "def move(channel, move_mode, direction):\n",
    "    # Set move mode depending properties for the next movement.\n",
    "    if move_mode == ctl.MoveMode.CL_ABSOLUTE:\n",
    "        # Set move velocity [in pm/s].\n",
    "        ctl.SetProperty_i64(d_handle, channel, ctl.Property.MOVE_VELOCITY, 1000000000)\n",
    "        # Set move acceleration [in pm/s2].\n",
    "        ctl.SetProperty_i64(d_handle, channel, ctl.Property.MOVE_ACCELERATION, 1000000000)\n",
    "        # Specify absolute position [in pm].\n",
    "        # (For Piezo Scanner channels adjust to valid value within move range, e.g. +-10000000.)\n",
    "        move_value = 1000000000\n",
    "        if direction:\n",
    "            move_value = -2000000000\n",
    "        print(\"MCS2 move channel {} to absolute position: {} pm.\".format(channel, move_value))\n",
    "    elif move_mode == ctl.MoveMode.CL_RELATIVE:\n",
    "        # Set move velocity [in pm/s].\n",
    "        ctl.SetProperty_i64(d_handle, channel, ctl.Property.MOVE_VELOCITY, 500000000)\n",
    "        # Set move acceleration [in pm/s2].\n",
    "        ctl.SetProperty_i64(d_handle, channel, ctl.Property.MOVE_ACCELERATION, 10000000000)\n",
    "        # Specify relative position distance [in pm] and direction.\n",
    "        # (For Piezo Scanner channels adjust to valid value within move range, e.g. 10000000.)\n",
    "        move_value = 500000000\n",
    "        if direction:\n",
    "            move_value = -move_value\n",
    "        print(\"MCS2 move channel {} relative: {} pm.\".format(channel, move_value))\n",
    "    elif move_mode == ctl.MoveMode.SCAN_ABSOLUTE:\n",
    "        # Set scan velocity [in dac increments/s].\n",
    "        # Valid range (Stick-Slip Piezo): 1 to 65535000000\n",
    "        # Valid range (Piezo Scanner): 1 to 4194300000\n",
    "        ctl.SetProperty_i64(d_handle, channel, ctl.Property.SCAN_VELOCITY, (65535*2))\n",
    "        # Specify absolute scan target to which to scan to [in dac increments].\n",
    "        # Valid range (Stick-Slip Piezo): 0 to 65535 corresponding to 0 to 100V piezo voltage\n",
    "        # Valid range (Piezo Scanner): 0 to 1048575 corresponding to -20 to 100V piezo voltage\n",
    "        move_value = 65535\n",
    "        if direction:\n",
    "            move_value = 0\n",
    "        print(\"MCS2 scan channel {} absolute to: {}.\".format(channel, move_value))\n",
    "    elif move_mode == ctl.MoveMode.SCAN_RELATIVE:\n",
    "        # Set scan velocity [in dac increments/s].\n",
    "        ctl.SetProperty_i64(d_handle, channel, ctl.Property.SCAN_VELOCITY, 65535)\n",
    "        # Specify relative scan target and direction to which to scan to [in dac increments].\n",
    "        # Valid range( Stick-Slip Piezo): -65535 to 65535 corresponding to 0 to 100V piezo voltage\n",
    "        # Valid range (Piezo Scanner): -1048575 to 1048575 corresponding to -20 to 100V piezo voltage\n",
    "        # If the resulting absolute scan target exceeds the valid range the scan movement will stop at the boundary.\n",
    "        move_value = 65535\n",
    "        if direction:\n",
    "            move_value = -move_value\n",
    "        print(\"MCS2 scan channel {} relative: {}.\".format(channel, move_value))\n",
    "    elif move_mode == ctl.MoveMode.STEP: # (only Stick-Slip piezo positioners)\n",
    "        # Set step frequency [in Hz].\n",
    "        # Valid range: 1 to 20000 Hz\n",
    "        ctl.SetProperty_i32(d_handle, channel, ctl.Property.STEP_FREQUENCY, 1000)\n",
    "        # Set maximum step amplitude [in dac increments].\n",
    "        # valid range: 0 to 65535 corresponding to 0 to 100V piezo voltage\n",
    "        # Lower amplitude values result in smaller step width.\n",
    "        ctl.SetProperty_i32(d_handle, channel, ctl.Property.STEP_AMPLITUDE, 65535)\n",
    "        # Specify the number of steps to perform and the direction.\n",
    "        move_value = 500\n",
    "        if direction:\n",
    "            move_value = -move_value\n",
    "        print(\"MCS2 open loop step move, channel {}, steps: {}.\".format(channel, move_value))\n",
    "    # Start actual movement.\n",
    "    ctl.Move(d_handle, channel, move_value, 0)\n",
    "    # Note that the function call returns immediately, without waiting for the movement to complete.\n",
    "    # The \"ChannelState.ACTIVELY_MOVING\" (and \"ChannelState.CLOSED_LOOP_ACTIVE\") flag in the channel state\n",
    "    # can be monitored to determine the end of the movement.\n"
   ]
  },
  {
   "cell_type": "code",
   "execution_count": 138,
   "metadata": {},
   "outputs": [
    {
     "ename": "Error",
     "evalue": "SetProperty_i32 returned 61447 with arguments {'dHandle': 4, 'idx': 0, 'pkey': <Property.STEP_FREQUENCY: 50659374>, 'value': 1000}",
     "output_type": "error",
     "traceback": [
      "\u001b[1;31m---------------------------------------------------------------------------\u001b[0m",
      "\u001b[1;31mError\u001b[0m                                     Traceback (most recent call last)",
      "Cell \u001b[1;32mIn[138], line 1\u001b[0m\n\u001b[1;32m----> 1\u001b[0m \u001b[43mmove\u001b[49m\u001b[43m(\u001b[49m\u001b[43mchannel\u001b[49m\u001b[43m,\u001b[49m\u001b[43m \u001b[49m\u001b[43mctl\u001b[49m\u001b[38;5;241;43m.\u001b[39;49m\u001b[43mMoveMode\u001b[49m\u001b[38;5;241;43m.\u001b[39;49m\u001b[43mSTEP\u001b[49m\u001b[43m,\u001b[49m\u001b[43m \u001b[49m\u001b[38;5;28;43;01mTrue\u001b[39;49;00m\u001b[43m)\u001b[49m\n",
      "Cell \u001b[1;32mIn[116], line 51\u001b[0m, in \u001b[0;36mmove\u001b[1;34m(channel, move_mode, direction)\u001b[0m\n\u001b[0;32m     47\u001b[0m     \u001b[38;5;28mprint\u001b[39m(\u001b[38;5;124m\"\u001b[39m\u001b[38;5;124mMCS2 scan channel \u001b[39m\u001b[38;5;132;01m{}\u001b[39;00m\u001b[38;5;124m relative: \u001b[39m\u001b[38;5;132;01m{}\u001b[39;00m\u001b[38;5;124m.\u001b[39m\u001b[38;5;124m\"\u001b[39m\u001b[38;5;241m.\u001b[39mformat(channel, move_value))\n\u001b[0;32m     48\u001b[0m \u001b[38;5;28;01melif\u001b[39;00m move_mode \u001b[38;5;241m==\u001b[39m ctl\u001b[38;5;241m.\u001b[39mMoveMode\u001b[38;5;241m.\u001b[39mSTEP: \u001b[38;5;66;03m# (only Stick-Slip piezo positioners)\u001b[39;00m\n\u001b[0;32m     49\u001b[0m     \u001b[38;5;66;03m# Set step frequency [in Hz].\u001b[39;00m\n\u001b[0;32m     50\u001b[0m     \u001b[38;5;66;03m# Valid range: 1 to 20000 Hz\u001b[39;00m\n\u001b[1;32m---> 51\u001b[0m     \u001b[43mctl\u001b[49m\u001b[38;5;241;43m.\u001b[39;49m\u001b[43mSetProperty_i32\u001b[49m\u001b[43m(\u001b[49m\u001b[43md_handle\u001b[49m\u001b[43m,\u001b[49m\u001b[43m \u001b[49m\u001b[43mchannel\u001b[49m\u001b[43m,\u001b[49m\u001b[43m \u001b[49m\u001b[43mctl\u001b[49m\u001b[38;5;241;43m.\u001b[39;49m\u001b[43mProperty\u001b[49m\u001b[38;5;241;43m.\u001b[39;49m\u001b[43mSTEP_FREQUENCY\u001b[49m\u001b[43m,\u001b[49m\u001b[43m \u001b[49m\u001b[38;5;241;43m1000\u001b[39;49m\u001b[43m)\u001b[49m\n\u001b[0;32m     52\u001b[0m     \u001b[38;5;66;03m# Set maximum step amplitude [in dac increments].\u001b[39;00m\n\u001b[0;32m     53\u001b[0m     \u001b[38;5;66;03m# valid range: 0 to 65535 corresponding to 0 to 100V piezo voltage\u001b[39;00m\n\u001b[0;32m     54\u001b[0m     \u001b[38;5;66;03m# Lower amplitude values result in smaller step width.\u001b[39;00m\n\u001b[0;32m     55\u001b[0m     ctl\u001b[38;5;241m.\u001b[39mSetProperty_i32(d_handle, channel, ctl\u001b[38;5;241m.\u001b[39mProperty\u001b[38;5;241m.\u001b[39mSTEP_AMPLITUDE, \u001b[38;5;241m65535\u001b[39m)\n",
      "File \u001b[1;32mc:\\Users\\naqee\\Desktop\\Stage_Controller\\smaract code\\smaract\\ctl\\bindings.py:221\u001b[0m, in \u001b[0;36mSetProperty_i32\u001b[1;34m(dHandle, idx, pkey, value)\u001b[0m\n\u001b[0;32m    219\u001b[0m local_0 \u001b[38;5;241m=\u001b[39m lib\u001b[38;5;241m.\u001b[39mSA_CTL_SetProperty_i32(dHandle, idx, pkey, value)\n\u001b[0;32m    220\u001b[0m \u001b[38;5;28;01mif\u001b[39;00m local_0 \u001b[38;5;241m!=\u001b[39m ErrorCode\u001b[38;5;241m.\u001b[39mNONE\u001b[38;5;241m.\u001b[39mvalue:\n\u001b[1;32m--> 221\u001b[0m     \u001b[38;5;28;01mraise\u001b[39;00m Error(\u001b[38;5;124m\"\u001b[39m\u001b[38;5;124mSetProperty_i32\u001b[39m\u001b[38;5;124m\"\u001b[39m, local_0, {\u001b[38;5;124m\"\u001b[39m\u001b[38;5;124mdHandle\u001b[39m\u001b[38;5;124m\"\u001b[39m: dHandle, \u001b[38;5;124m\"\u001b[39m\u001b[38;5;124midx\u001b[39m\u001b[38;5;124m\"\u001b[39m: idx, \u001b[38;5;124m\"\u001b[39m\u001b[38;5;124mpkey\u001b[39m\u001b[38;5;124m\"\u001b[39m: pkey, \u001b[38;5;124m\"\u001b[39m\u001b[38;5;124mvalue\u001b[39m\u001b[38;5;124m\"\u001b[39m: value})\n\u001b[0;32m    222\u001b[0m \u001b[38;5;28;01mreturn\u001b[39;00m\n",
      "\u001b[1;31mError\u001b[0m: SetProperty_i32 returned 61447 with arguments {'dHandle': 4, 'idx': 0, 'pkey': <Property.STEP_FREQUENCY: 50659374>, 'value': 1000}"
     ]
    }
   ],
   "source": [
    "move(channel, ctl.MoveMode.STEP, True)\n"
   ]
  },
  {
   "cell_type": "code",
   "execution_count": 137,
   "metadata": {},
   "outputs": [],
   "source": [
    "if d_handle != None:\n",
    "        ctl.Close(d_handle)"
   ]
  },
  {
   "cell_type": "code",
   "execution_count": null,
   "metadata": {},
   "outputs": [],
   "source": []
  }
 ],
 "metadata": {
  "kernelspec": {
   "display_name": "Python 3",
   "language": "python",
   "name": "python3"
  },
  "language_info": {
   "codemirror_mode": {
    "name": "ipython",
    "version": 3
   },
   "file_extension": ".py",
   "mimetype": "text/x-python",
   "name": "python",
   "nbconvert_exporter": "python",
   "pygments_lexer": "ipython3",
   "version": "3.10.4"
  }
 },
 "nbformat": 4,
 "nbformat_minor": 2
}
